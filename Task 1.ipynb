{
 "cells": [
  {
   "cell_type": "code",
   "execution_count": 4,
   "id": "c144f5d9-1b40-40f7-a4bf-447cbc6a1f07",
   "metadata": {},
   "outputs": [],
   "source": [
    "import numpy as np"
   ]
  },
  {
   "cell_type": "code",
   "execution_count": 5,
   "id": "057cfc95-3596-46af-8735-ee4e4e379e69",
   "metadata": {},
   "outputs": [],
   "source": [
    "import pandas as pd"
   ]
  },
  {
   "cell_type": "code",
   "execution_count": 6,
   "id": "9333ab4c-f421-42a1-b110-585993e1c492",
   "metadata": {},
   "outputs": [],
   "source": [
    "import matplotlib.pyplot as plt"
   ]
  },
  {
   "cell_type": "code",
   "execution_count": 7,
   "id": "6a3dc509-fc58-4d42-a675-88330746579a",
   "metadata": {},
   "outputs": [
    {
     "data": {
      "text/html": [
       "<div>\n",
       "<style scoped>\n",
       "    .dataframe tbody tr th:only-of-type {\n",
       "        vertical-align: middle;\n",
       "    }\n",
       "\n",
       "    .dataframe tbody tr th {\n",
       "        vertical-align: top;\n",
       "    }\n",
       "\n",
       "    .dataframe thead th {\n",
       "        text-align: right;\n",
       "    }\n",
       "</style>\n",
       "<table border=\"1\" class=\"dataframe\">\n",
       "  <thead>\n",
       "    <tr style=\"text-align: right;\">\n",
       "      <th></th>\n",
       "      <th>item_id</th>\n",
       "      <th>user_id</th>\n",
       "      <th>rating</th>\n",
       "      <th>timestamp</th>\n",
       "      <th>model_attr</th>\n",
       "      <th>category</th>\n",
       "      <th>brand</th>\n",
       "      <th>year</th>\n",
       "      <th>user_attr</th>\n",
       "      <th>split</th>\n",
       "      <th>month</th>\n",
       "    </tr>\n",
       "  </thead>\n",
       "  <tbody>\n",
       "    <tr>\n",
       "      <th>0</th>\n",
       "      <td>0</td>\n",
       "      <td>0</td>\n",
       "      <td>5.0</td>\n",
       "      <td>1999-06-13</td>\n",
       "      <td>Female</td>\n",
       "      <td>Portable Audio &amp; Video</td>\n",
       "      <td>NaN</td>\n",
       "      <td>1999</td>\n",
       "      <td>NaN</td>\n",
       "      <td>0</td>\n",
       "      <td>6</td>\n",
       "    </tr>\n",
       "    <tr>\n",
       "      <th>1</th>\n",
       "      <td>0</td>\n",
       "      <td>1</td>\n",
       "      <td>5.0</td>\n",
       "      <td>1999-06-14</td>\n",
       "      <td>Female</td>\n",
       "      <td>Portable Audio &amp; Video</td>\n",
       "      <td>NaN</td>\n",
       "      <td>1999</td>\n",
       "      <td>NaN</td>\n",
       "      <td>0</td>\n",
       "      <td>6</td>\n",
       "    </tr>\n",
       "    <tr>\n",
       "      <th>2</th>\n",
       "      <td>0</td>\n",
       "      <td>2</td>\n",
       "      <td>3.0</td>\n",
       "      <td>1999-06-17</td>\n",
       "      <td>Female</td>\n",
       "      <td>Portable Audio &amp; Video</td>\n",
       "      <td>NaN</td>\n",
       "      <td>1999</td>\n",
       "      <td>NaN</td>\n",
       "      <td>0</td>\n",
       "      <td>6</td>\n",
       "    </tr>\n",
       "    <tr>\n",
       "      <th>3</th>\n",
       "      <td>0</td>\n",
       "      <td>3</td>\n",
       "      <td>1.0</td>\n",
       "      <td>1999-07-01</td>\n",
       "      <td>Female</td>\n",
       "      <td>Portable Audio &amp; Video</td>\n",
       "      <td>NaN</td>\n",
       "      <td>1999</td>\n",
       "      <td>NaN</td>\n",
       "      <td>0</td>\n",
       "      <td>7</td>\n",
       "    </tr>\n",
       "    <tr>\n",
       "      <th>4</th>\n",
       "      <td>0</td>\n",
       "      <td>4</td>\n",
       "      <td>2.0</td>\n",
       "      <td>1999-07-06</td>\n",
       "      <td>Female</td>\n",
       "      <td>Portable Audio &amp; Video</td>\n",
       "      <td>NaN</td>\n",
       "      <td>1999</td>\n",
       "      <td>NaN</td>\n",
       "      <td>0</td>\n",
       "      <td>7</td>\n",
       "    </tr>\n",
       "    <tr>\n",
       "      <th>...</th>\n",
       "      <td>...</td>\n",
       "      <td>...</td>\n",
       "      <td>...</td>\n",
       "      <td>...</td>\n",
       "      <td>...</td>\n",
       "      <td>...</td>\n",
       "      <td>...</td>\n",
       "      <td>...</td>\n",
       "      <td>...</td>\n",
       "      <td>...</td>\n",
       "      <td>...</td>\n",
       "    </tr>\n",
       "    <tr>\n",
       "      <th>1292949</th>\n",
       "      <td>9478</td>\n",
       "      <td>1157628</td>\n",
       "      <td>1.0</td>\n",
       "      <td>2018-09-26</td>\n",
       "      <td>Female</td>\n",
       "      <td>Headphones</td>\n",
       "      <td>Etre Jeune</td>\n",
       "      <td>2018</td>\n",
       "      <td>NaN</td>\n",
       "      <td>0</td>\n",
       "      <td>9</td>\n",
       "    </tr>\n",
       "    <tr>\n",
       "      <th>1292950</th>\n",
       "      <td>9435</td>\n",
       "      <td>1157629</td>\n",
       "      <td>5.0</td>\n",
       "      <td>2018-09-26</td>\n",
       "      <td>Female</td>\n",
       "      <td>Computers &amp; Accessories</td>\n",
       "      <td>NaN</td>\n",
       "      <td>2018</td>\n",
       "      <td>NaN</td>\n",
       "      <td>0</td>\n",
       "      <td>9</td>\n",
       "    </tr>\n",
       "    <tr>\n",
       "      <th>1292951</th>\n",
       "      <td>9305</td>\n",
       "      <td>1157630</td>\n",
       "      <td>3.0</td>\n",
       "      <td>2018-09-26</td>\n",
       "      <td>Female</td>\n",
       "      <td>Computers &amp; Accessories</td>\n",
       "      <td>NaN</td>\n",
       "      <td>2018</td>\n",
       "      <td>NaN</td>\n",
       "      <td>0</td>\n",
       "      <td>9</td>\n",
       "    </tr>\n",
       "    <tr>\n",
       "      <th>1292952</th>\n",
       "      <td>9303</td>\n",
       "      <td>1157631</td>\n",
       "      <td>5.0</td>\n",
       "      <td>2018-09-29</td>\n",
       "      <td>Male</td>\n",
       "      <td>Headphones</td>\n",
       "      <td>NaN</td>\n",
       "      <td>2018</td>\n",
       "      <td>NaN</td>\n",
       "      <td>0</td>\n",
       "      <td>9</td>\n",
       "    </tr>\n",
       "    <tr>\n",
       "      <th>1292953</th>\n",
       "      <td>9478</td>\n",
       "      <td>1157632</td>\n",
       "      <td>1.0</td>\n",
       "      <td>2018-10-01</td>\n",
       "      <td>Female</td>\n",
       "      <td>Headphones</td>\n",
       "      <td>Etre Jeune</td>\n",
       "      <td>2018</td>\n",
       "      <td>Female</td>\n",
       "      <td>0</td>\n",
       "      <td>10</td>\n",
       "    </tr>\n",
       "  </tbody>\n",
       "</table>\n",
       "<p>1292954 rows × 11 columns</p>\n",
       "</div>"
      ],
      "text/plain": [
       "         item_id  user_id  rating   timestamp model_attr  \\\n",
       "0              0        0     5.0  1999-06-13     Female   \n",
       "1              0        1     5.0  1999-06-14     Female   \n",
       "2              0        2     3.0  1999-06-17     Female   \n",
       "3              0        3     1.0  1999-07-01     Female   \n",
       "4              0        4     2.0  1999-07-06     Female   \n",
       "...          ...      ...     ...         ...        ...   \n",
       "1292949     9478  1157628     1.0  2018-09-26     Female   \n",
       "1292950     9435  1157629     5.0  2018-09-26     Female   \n",
       "1292951     9305  1157630     3.0  2018-09-26     Female   \n",
       "1292952     9303  1157631     5.0  2018-09-29       Male   \n",
       "1292953     9478  1157632     1.0  2018-10-01     Female   \n",
       "\n",
       "                        category       brand  year user_attr  split  month  \n",
       "0         Portable Audio & Video         NaN  1999       NaN      0      6  \n",
       "1         Portable Audio & Video         NaN  1999       NaN      0      6  \n",
       "2         Portable Audio & Video         NaN  1999       NaN      0      6  \n",
       "3         Portable Audio & Video         NaN  1999       NaN      0      7  \n",
       "4         Portable Audio & Video         NaN  1999       NaN      0      7  \n",
       "...                          ...         ...   ...       ...    ...    ...  \n",
       "1292949               Headphones  Etre Jeune  2018       NaN      0      9  \n",
       "1292950  Computers & Accessories         NaN  2018       NaN      0      9  \n",
       "1292951  Computers & Accessories         NaN  2018       NaN      0      9  \n",
       "1292952               Headphones         NaN  2018       NaN      0      9  \n",
       "1292953               Headphones  Etre Jeune  2018    Female      0     10  \n",
       "\n",
       "[1292954 rows x 11 columns]"
      ]
     },
     "execution_count": 7,
     "metadata": {},
     "output_type": "execute_result"
    }
   ],
   "source": [
    "data= pd.read_csv(\"electronics_cleaned.csv\")\n",
    "data"
   ]
  },
  {
   "cell_type": "code",
   "execution_count": 8,
   "id": "8053a0ad-8b0f-4d82-bf43-6b2a5f099563",
   "metadata": {},
   "outputs": [
    {
     "data": {
      "text/html": [
       "<div>\n",
       "<style scoped>\n",
       "    .dataframe tbody tr th:only-of-type {\n",
       "        vertical-align: middle;\n",
       "    }\n",
       "\n",
       "    .dataframe tbody tr th {\n",
       "        vertical-align: top;\n",
       "    }\n",
       "\n",
       "    .dataframe thead th {\n",
       "        text-align: right;\n",
       "    }\n",
       "</style>\n",
       "<table border=\"1\" class=\"dataframe\">\n",
       "  <thead>\n",
       "    <tr style=\"text-align: right;\">\n",
       "      <th></th>\n",
       "      <th>item_id</th>\n",
       "      <th>user_id</th>\n",
       "      <th>rating</th>\n",
       "      <th>timestamp</th>\n",
       "      <th>model_attr</th>\n",
       "      <th>category</th>\n",
       "      <th>brand</th>\n",
       "      <th>year</th>\n",
       "      <th>user_attr</th>\n",
       "      <th>split</th>\n",
       "      <th>month</th>\n",
       "    </tr>\n",
       "  </thead>\n",
       "  <tbody>\n",
       "    <tr>\n",
       "      <th>0</th>\n",
       "      <td>0</td>\n",
       "      <td>0</td>\n",
       "      <td>5.0</td>\n",
       "      <td>1999-06-13</td>\n",
       "      <td>Female</td>\n",
       "      <td>Portable Audio &amp; Video</td>\n",
       "      <td>NaN</td>\n",
       "      <td>1999</td>\n",
       "      <td>NaN</td>\n",
       "      <td>0</td>\n",
       "      <td>6</td>\n",
       "    </tr>\n",
       "    <tr>\n",
       "      <th>1</th>\n",
       "      <td>0</td>\n",
       "      <td>1</td>\n",
       "      <td>5.0</td>\n",
       "      <td>1999-06-14</td>\n",
       "      <td>Female</td>\n",
       "      <td>Portable Audio &amp; Video</td>\n",
       "      <td>NaN</td>\n",
       "      <td>1999</td>\n",
       "      <td>NaN</td>\n",
       "      <td>0</td>\n",
       "      <td>6</td>\n",
       "    </tr>\n",
       "    <tr>\n",
       "      <th>2</th>\n",
       "      <td>0</td>\n",
       "      <td>2</td>\n",
       "      <td>3.0</td>\n",
       "      <td>1999-06-17</td>\n",
       "      <td>Female</td>\n",
       "      <td>Portable Audio &amp; Video</td>\n",
       "      <td>NaN</td>\n",
       "      <td>1999</td>\n",
       "      <td>NaN</td>\n",
       "      <td>0</td>\n",
       "      <td>6</td>\n",
       "    </tr>\n",
       "    <tr>\n",
       "      <th>3</th>\n",
       "      <td>0</td>\n",
       "      <td>3</td>\n",
       "      <td>1.0</td>\n",
       "      <td>1999-07-01</td>\n",
       "      <td>Female</td>\n",
       "      <td>Portable Audio &amp; Video</td>\n",
       "      <td>NaN</td>\n",
       "      <td>1999</td>\n",
       "      <td>NaN</td>\n",
       "      <td>0</td>\n",
       "      <td>7</td>\n",
       "    </tr>\n",
       "    <tr>\n",
       "      <th>4</th>\n",
       "      <td>0</td>\n",
       "      <td>4</td>\n",
       "      <td>2.0</td>\n",
       "      <td>1999-07-06</td>\n",
       "      <td>Female</td>\n",
       "      <td>Portable Audio &amp; Video</td>\n",
       "      <td>NaN</td>\n",
       "      <td>1999</td>\n",
       "      <td>NaN</td>\n",
       "      <td>0</td>\n",
       "      <td>7</td>\n",
       "    </tr>\n",
       "  </tbody>\n",
       "</table>\n",
       "</div>"
      ],
      "text/plain": [
       "   item_id  user_id  rating   timestamp model_attr                category  \\\n",
       "0        0        0     5.0  1999-06-13     Female  Portable Audio & Video   \n",
       "1        0        1     5.0  1999-06-14     Female  Portable Audio & Video   \n",
       "2        0        2     3.0  1999-06-17     Female  Portable Audio & Video   \n",
       "3        0        3     1.0  1999-07-01     Female  Portable Audio & Video   \n",
       "4        0        4     2.0  1999-07-06     Female  Portable Audio & Video   \n",
       "\n",
       "  brand  year user_attr  split  month  \n",
       "0   NaN  1999       NaN      0      6  \n",
       "1   NaN  1999       NaN      0      6  \n",
       "2   NaN  1999       NaN      0      6  \n",
       "3   NaN  1999       NaN      0      7  \n",
       "4   NaN  1999       NaN      0      7  "
      ]
     },
     "execution_count": 8,
     "metadata": {},
     "output_type": "execute_result"
    }
   ],
   "source": [
    "data.head()"
   ]
  },
  {
   "cell_type": "code",
   "execution_count": 9,
   "id": "0ee7ae9c-c58f-4a7b-9642-b6077f7fe1b8",
   "metadata": {},
   "outputs": [
    {
     "data": {
      "text/html": [
       "<div>\n",
       "<style scoped>\n",
       "    .dataframe tbody tr th:only-of-type {\n",
       "        vertical-align: middle;\n",
       "    }\n",
       "\n",
       "    .dataframe tbody tr th {\n",
       "        vertical-align: top;\n",
       "    }\n",
       "\n",
       "    .dataframe thead th {\n",
       "        text-align: right;\n",
       "    }\n",
       "</style>\n",
       "<table border=\"1\" class=\"dataframe\">\n",
       "  <thead>\n",
       "    <tr style=\"text-align: right;\">\n",
       "      <th></th>\n",
       "      <th>item_id</th>\n",
       "      <th>user_id</th>\n",
       "      <th>rating</th>\n",
       "      <th>timestamp</th>\n",
       "      <th>model_attr</th>\n",
       "      <th>category</th>\n",
       "      <th>brand</th>\n",
       "      <th>year</th>\n",
       "      <th>user_attr</th>\n",
       "      <th>split</th>\n",
       "      <th>month</th>\n",
       "    </tr>\n",
       "  </thead>\n",
       "  <tbody>\n",
       "    <tr>\n",
       "      <th>1292949</th>\n",
       "      <td>9478</td>\n",
       "      <td>1157628</td>\n",
       "      <td>1.0</td>\n",
       "      <td>2018-09-26</td>\n",
       "      <td>Female</td>\n",
       "      <td>Headphones</td>\n",
       "      <td>Etre Jeune</td>\n",
       "      <td>2018</td>\n",
       "      <td>NaN</td>\n",
       "      <td>0</td>\n",
       "      <td>9</td>\n",
       "    </tr>\n",
       "    <tr>\n",
       "      <th>1292950</th>\n",
       "      <td>9435</td>\n",
       "      <td>1157629</td>\n",
       "      <td>5.0</td>\n",
       "      <td>2018-09-26</td>\n",
       "      <td>Female</td>\n",
       "      <td>Computers &amp; Accessories</td>\n",
       "      <td>NaN</td>\n",
       "      <td>2018</td>\n",
       "      <td>NaN</td>\n",
       "      <td>0</td>\n",
       "      <td>9</td>\n",
       "    </tr>\n",
       "    <tr>\n",
       "      <th>1292951</th>\n",
       "      <td>9305</td>\n",
       "      <td>1157630</td>\n",
       "      <td>3.0</td>\n",
       "      <td>2018-09-26</td>\n",
       "      <td>Female</td>\n",
       "      <td>Computers &amp; Accessories</td>\n",
       "      <td>NaN</td>\n",
       "      <td>2018</td>\n",
       "      <td>NaN</td>\n",
       "      <td>0</td>\n",
       "      <td>9</td>\n",
       "    </tr>\n",
       "    <tr>\n",
       "      <th>1292952</th>\n",
       "      <td>9303</td>\n",
       "      <td>1157631</td>\n",
       "      <td>5.0</td>\n",
       "      <td>2018-09-29</td>\n",
       "      <td>Male</td>\n",
       "      <td>Headphones</td>\n",
       "      <td>NaN</td>\n",
       "      <td>2018</td>\n",
       "      <td>NaN</td>\n",
       "      <td>0</td>\n",
       "      <td>9</td>\n",
       "    </tr>\n",
       "    <tr>\n",
       "      <th>1292953</th>\n",
       "      <td>9478</td>\n",
       "      <td>1157632</td>\n",
       "      <td>1.0</td>\n",
       "      <td>2018-10-01</td>\n",
       "      <td>Female</td>\n",
       "      <td>Headphones</td>\n",
       "      <td>Etre Jeune</td>\n",
       "      <td>2018</td>\n",
       "      <td>Female</td>\n",
       "      <td>0</td>\n",
       "      <td>10</td>\n",
       "    </tr>\n",
       "  </tbody>\n",
       "</table>\n",
       "</div>"
      ],
      "text/plain": [
       "         item_id  user_id  rating   timestamp model_attr  \\\n",
       "1292949     9478  1157628     1.0  2018-09-26     Female   \n",
       "1292950     9435  1157629     5.0  2018-09-26     Female   \n",
       "1292951     9305  1157630     3.0  2018-09-26     Female   \n",
       "1292952     9303  1157631     5.0  2018-09-29       Male   \n",
       "1292953     9478  1157632     1.0  2018-10-01     Female   \n",
       "\n",
       "                        category       brand  year user_attr  split  month  \n",
       "1292949               Headphones  Etre Jeune  2018       NaN      0      9  \n",
       "1292950  Computers & Accessories         NaN  2018       NaN      0      9  \n",
       "1292951  Computers & Accessories         NaN  2018       NaN      0      9  \n",
       "1292952               Headphones         NaN  2018       NaN      0      9  \n",
       "1292953               Headphones  Etre Jeune  2018    Female      0     10  "
      ]
     },
     "execution_count": 9,
     "metadata": {},
     "output_type": "execute_result"
    }
   ],
   "source": [
    "data.tail()"
   ]
  },
  {
   "cell_type": "code",
   "execution_count": 10,
   "id": "f1eafa1d-4ebc-4ec0-8875-878573b1ab79",
   "metadata": {},
   "outputs": [
    {
     "name": "stdout",
     "output_type": "stream",
     "text": [
      "<class 'pandas.core.frame.DataFrame'>\n",
      "RangeIndex: 1292954 entries, 0 to 1292953\n",
      "Data columns (total 11 columns):\n",
      " #   Column      Non-Null Count    Dtype  \n",
      "---  ------      --------------    -----  \n",
      " 0   item_id     1292954 non-null  int64  \n",
      " 1   user_id     1292954 non-null  int64  \n",
      " 2   rating      1292954 non-null  float64\n",
      " 3   timestamp   1292954 non-null  object \n",
      " 4   model_attr  1292954 non-null  object \n",
      " 5   category    1292954 non-null  object \n",
      " 6   brand       331120 non-null   object \n",
      " 7   year        1292954 non-null  int64  \n",
      " 8   user_attr   174124 non-null   object \n",
      " 9   split       1292954 non-null  int64  \n",
      " 10  month       1292954 non-null  int64  \n",
      "dtypes: float64(1), int64(5), object(5)\n",
      "memory usage: 108.5+ MB\n"
     ]
    }
   ],
   "source": [
    "data.info()"
   ]
  },
  {
   "cell_type": "code",
   "execution_count": 11,
   "id": "416f5bba-00d0-4ae6-9bd6-87c2a5770fba",
   "metadata": {},
   "outputs": [],
   "source": [
    "data[\"brand\"]=data[\"brand\"].astype(\"string\")\n",
    "data[\"category\"]=data[\"category\"].astype(\"string\")"
   ]
  },
  {
   "cell_type": "code",
   "execution_count": 12,
   "id": "34c4d1f5-3d4c-4cf7-95e3-ff2f1c507c99",
   "metadata": {},
   "outputs": [
    {
     "name": "stdout",
     "output_type": "stream",
     "text": [
      "<class 'pandas.core.frame.DataFrame'>\n",
      "RangeIndex: 1292954 entries, 0 to 1292953\n",
      "Data columns (total 11 columns):\n",
      " #   Column      Non-Null Count    Dtype  \n",
      "---  ------      --------------    -----  \n",
      " 0   item_id     1292954 non-null  int64  \n",
      " 1   user_id     1292954 non-null  int64  \n",
      " 2   rating      1292954 non-null  float64\n",
      " 3   timestamp   1292954 non-null  object \n",
      " 4   model_attr  1292954 non-null  object \n",
      " 5   category    1292954 non-null  string \n",
      " 6   brand       331120 non-null   string \n",
      " 7   year        1292954 non-null  int64  \n",
      " 8   user_attr   174124 non-null   object \n",
      " 9   split       1292954 non-null  int64  \n",
      " 10  month       1292954 non-null  int64  \n",
      "dtypes: float64(1), int64(5), object(3), string(2)\n",
      "memory usage: 108.5+ MB\n"
     ]
    }
   ],
   "source": [
    "data.info()\n"
   ]
  },
  {
   "cell_type": "code",
   "execution_count": 13,
   "id": "ed039c97-57a6-42db-affc-1765ea352264",
   "metadata": {},
   "outputs": [
    {
     "name": "stdout",
     "output_type": "stream",
     "text": [
      "<class 'pandas.core.frame.DataFrame'>\n",
      "RangeIndex: 1292954 entries, 0 to 1292953\n",
      "Data columns (total 11 columns):\n",
      " #   Column      Non-Null Count    Dtype         \n",
      "---  ------      --------------    -----         \n",
      " 0   item_id     1292954 non-null  int64         \n",
      " 1   user_id     1292954 non-null  int64         \n",
      " 2   rating      1292954 non-null  float64       \n",
      " 3   timestamp   1292954 non-null  datetime64[ns]\n",
      " 4   model_attr  1292954 non-null  object        \n",
      " 5   category    1292954 non-null  string        \n",
      " 6   brand       331120 non-null   string        \n",
      " 7   year        1292954 non-null  int64         \n",
      " 8   user_attr   174124 non-null   object        \n",
      " 9   split       1292954 non-null  int64         \n",
      " 10  month       1292954 non-null  int64         \n",
      "dtypes: datetime64[ns](1), float64(1), int64(5), object(2), string(2)\n",
      "memory usage: 108.5+ MB\n"
     ]
    }
   ],
   "source": [
    "from datetime import datetime\n",
    "data[\"timestamp\"]=pd.to_datetime(data[\"timestamp\"])\n",
    "data.info()"
   ]
  },
  {
   "cell_type": "code",
   "execution_count": 14,
   "id": "86a5abbd-3571-4b78-bf63-a0272a4560c5",
   "metadata": {},
   "outputs": [
    {
     "data": {
      "text/plain": [
       "item_id          9560\n",
       "user_id       1157633\n",
       "rating              5\n",
       "timestamp        6354\n",
       "model_attr          3\n",
       "category           10\n",
       "brand              50\n",
       "year               20\n",
       "user_attr           2\n",
       "split               3\n",
       "month              12\n",
       "dtype: int64"
      ]
     },
     "execution_count": 14,
     "metadata": {},
     "output_type": "execute_result"
    }
   ],
   "source": [
    "data.nunique()\n"
   ]
  },
  {
   "cell_type": "code",
   "execution_count": 15,
   "id": "4f0f9e78-2eab-4818-8d72-00186e0ac9e1",
   "metadata": {},
   "outputs": [
    {
     "data": {
      "text/plain": [
       "np.int64(0)"
      ]
     },
     "execution_count": 15,
     "metadata": {},
     "output_type": "execute_result"
    }
   ],
   "source": [
    "duplicates=data.duplicated().sum()\n",
    "duplicates"
   ]
  },
  {
   "cell_type": "code",
   "execution_count": 16,
   "id": "6536f471-e5c3-4b92-98bd-10184234475d",
   "metadata": {},
   "outputs": [
    {
     "data": {
      "text/plain": [
       "0          False\n",
       "1          False\n",
       "2          False\n",
       "3          False\n",
       "4          False\n",
       "           ...  \n",
       "1292949    False\n",
       "1292950    False\n",
       "1292951    False\n",
       "1292952    False\n",
       "1292953    False\n",
       "Length: 1292954, dtype: bool"
      ]
     },
     "execution_count": 16,
     "metadata": {},
     "output_type": "execute_result"
    }
   ],
   "source": [
    "duplicates=data.duplicated()\n",
    "duplicates"
   ]
  },
  {
   "cell_type": "code",
   "execution_count": 17,
   "id": "ed9df723-2f55-4ed5-80d6-4376904fba92",
   "metadata": {},
   "outputs": [
    {
     "data": {
      "text/plain": [
       "item_id             0\n",
       "user_id             0\n",
       "rating              0\n",
       "timestamp           0\n",
       "model_attr          0\n",
       "category            0\n",
       "brand          961834\n",
       "year                0\n",
       "user_attr     1118830\n",
       "split               0\n",
       "month               0\n",
       "dtype: int64"
      ]
     },
     "execution_count": 17,
     "metadata": {},
     "output_type": "execute_result"
    }
   ],
   "source": [
    "data.isnull().sum()"
   ]
  },
  {
   "cell_type": "code",
   "execution_count": 18,
   "id": "da5fcb93-40a1-4208-a326-c8b8adaed6f2",
   "metadata": {},
   "outputs": [
    {
     "data": {
      "text/plain": [
       "rating\n",
       "5.0    755755\n",
       "4.0    214166\n",
       "1.0    143755\n",
       "3.0    100630\n",
       "2.0     78648\n",
       "Name: count, dtype: int64"
      ]
     },
     "execution_count": 18,
     "metadata": {},
     "output_type": "execute_result"
    }
   ],
   "source": [
    "data[\"rating\"].value_counts()"
   ]
  },
  {
   "cell_type": "code",
   "execution_count": 19,
   "id": "3b5acae2-67a7-40fd-b344-83ec0daaa354",
   "metadata": {},
   "outputs": [
    {
     "data": {
      "text/plain": [
       "category\n",
       "Headphones                 359334\n",
       "Computers & Accessories    322938\n",
       "Camera & Photo             192573\n",
       "Accessories & Supplies     158598\n",
       "Portable Audio & Video     143370\n",
       "Car Electronics & GPS       33070\n",
       "Television & Video          32057\n",
       "Home Audio                  24193\n",
       "Wearable Technology         16015\n",
       "Security & Surveillance     10806\n",
       "Name: count, dtype: Int64"
      ]
     },
     "execution_count": 19,
     "metadata": {},
     "output_type": "execute_result"
    }
   ],
   "source": [
    "data[\"category\"].value_counts()"
   ]
  },
  {
   "cell_type": "code",
   "execution_count": 20,
   "id": "a9448b1c-f011-461b-91b0-3040d5748e3a",
   "metadata": {},
   "outputs": [],
   "source": [
    "import seaborn as sns"
   ]
  },
  {
   "cell_type": "code",
   "execution_count": 21,
   "id": "a35bd983-c500-475a-b7ef-52b092140fc2",
   "metadata": {},
   "outputs": [
    {
     "data": {
      "image/png": "[encoded data removed]",
      "text/plain": [
       "<Figure size 640x480 with 1 Axes>"
      ]
     },
     "metadata": {},
     "output_type": "display_data"
    }
   ],
   "source": [
    "sns.countplot(x=\"category\",data=data)\n",
    "plt.show()"
   ]
  },
  {
   "cell_type": "code",
   "execution_count": null,
   "id": "615aae74-4741-4031-9ef2-0378250aba12",
   "metadata": {},
   "outputs": [],
   "source": []
  },
  {
   "cell_type": "code",
   "execution_count": null,
   "id": "96287f51-687d-4e97-8942-f27e27b442d4",
   "metadata": {},
   "outputs": [],
   "source": []
  }
 ],
 "metadata": {
  "kernelspec": {
   "display_name": "Python 3 (ipykernel)",
   "language": "python",
   "name": "python3"
  },
  "language_info": {
   "codemirror_mode": {
    "name": "ipython",
    "version": 3
   },
   "file_extension": ".py",
   "mimetype": "text/x-python",
   "name": "python",
   "nbconvert_exporter": "python",
   "pygments_lexer": "ipython3",
   "version": "3.12.4"
  }
 },
 "nbformat": 4,
 "nbformat_minor": 5
}
