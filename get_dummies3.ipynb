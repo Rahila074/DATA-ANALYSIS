{
 "cells": [
  {
   "cell_type": "code",
   "execution_count": 1,
   "id": "f748325b-ec90-42d7-97bc-4e691bd89930",
   "metadata": {},
   "outputs": [],
   "source": [
    "import pandas as pd"
   ]
  },
  {
   "cell_type": "code",
   "execution_count": 5,
   "id": "016e6d2f-5257-44e0-bd71-fa03c96bb0e2",
   "metadata": {},
   "outputs": [],
   "source": [
    "df1= {\n",
    "    'fruit':['apple','banana','cherry'],\n",
    "    'color':['red','yellow','red']\n",
    "}"
   ]
  },
  {
   "cell_type": "code",
   "execution_count": 7,
   "id": "1ae3f092-1570-4229-88ff-b442d4be4969",
   "metadata": {},
   "outputs": [],
   "source": [
    "df = pd.DataFrame(df1)"
   ]
  },
  {
   "cell_type": "code",
   "execution_count": 12,
   "id": "9f6766c7-c3f3-4d5e-9e5e-6525220ef2f4",
   "metadata": {},
   "outputs": [],
   "source": [
    "df_encoded =pd.get_dummies(df,columns=['fruit','color'],drop_first=True)"
   ]
  },
  {
   "cell_type": "code",
   "execution_count": 10,
   "id": "78896d23-4987-492d-9d43-7d21c5d93a8c",
   "metadata": {},
   "outputs": [
    {
     "name": "stdout",
     "output_type": "stream",
     "text": [
      "   fruit_banana  fruit_cherry  color_yellow\n",
      "0         False         False         False\n",
      "1          True         False          True\n",
      "2         False          True         False\n"
     ]
    }
   ],
   "source": [
    "print(df_encoded)"
   ]
  },
  {
   "cell_type": "code",
   "execution_count": null,
   "id": "6be8c0e9-a391-4e37-8e84-b93b31a6248d",
   "metadata": {},
   "outputs": [],
   "source": []
  }
 ],
 "metadata": {
  "kernelspec": {
   "display_name": "Python 3 (ipykernel)",
   "language": "python",
   "name": "python3"
  },
  "language_info": {
   "codemirror_mode": {
    "name": "ipython",
    "version": 3
   },
   "file_extension": ".py",
   "mimetype": "text/x-python",
   "name": "python",
   "nbconvert_exporter": "python",
   "pygments_lexer": "ipython3",
   "version": "3.12.4"
  }
 },
 "nbformat": 4,
 "nbformat_minor": 5
}
